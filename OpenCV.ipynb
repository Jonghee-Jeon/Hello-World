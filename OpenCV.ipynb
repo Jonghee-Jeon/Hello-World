{
 "cells": [
  {
   "cell_type": "code",
   "execution_count": 12,
   "metadata": {
    "collapsed": false
   },
   "outputs": [],
   "source": [
    "import numpy as np\n",
    "import os"
   ]
  },
  {
   "cell_type": "code",
   "execution_count": 13,
   "metadata": {
    "collapsed": false
   },
   "outputs": [],
   "source": [
    "import cv2"
   ]
  },
  {
   "cell_type": "code",
   "execution_count": 2,
   "metadata": {
    "collapsed": false
   },
   "outputs": [
    {
     "name": "stdout",
     "output_type": "stream",
     "text": [
      "3.1.0\n"
     ]
    }
   ],
   "source": [
    "print cv2.__version__"
   ]
  },
  {
   "cell_type": "code",
   "execution_count": 8,
   "metadata": {
    "collapsed": false
   },
   "outputs": [
    {
     "data": {
      "text/plain": [
       "'C:\\\\Users\\\\JeonJongHee'"
      ]
     },
     "execution_count": 8,
     "metadata": {},
     "output_type": "execute_result"
    }
   ],
   "source": [
    "os.getcwd()"
   ]
  },
  {
   "cell_type": "code",
   "execution_count": 27,
   "metadata": {
    "collapsed": false,
    "scrolled": true
   },
   "outputs": [
    {
     "name": "stdout",
     "output_type": "stream",
     "text": [
      "(array([[ 0.,  0.,  0., ...,  0.,  0.,  0.],\n",
      "       [ 0.,  0.,  0., ...,  0.,  0.,  0.],\n",
      "       [ 0.,  0.,  0., ...,  0.,  0.,  0.],\n",
      "       ..., \n",
      "       [ 0.,  0.,  0., ...,  0.,  0.,  0.],\n",
      "       [ 0.,  0.,  0., ...,  0.,  0.,  0.],\n",
      "       [ 0.,  0.,  0., ...,  0.,  0.,  0.]], dtype=float32), array([[0],\n",
      "       [0],\n",
      "       [0],\n",
      "       ..., \n",
      "       [9],\n",
      "       [9],\n",
      "       [9]]))\n"
     ]
    }
   ],
   "source": [
    "def resize20(digitImg):\n",
    "    img = cv2.imread(digitImg)\n",
    "    gray = cv2.cvtColor(img, cv2.COLOR_BGR2GRAY)\n",
    "    ret = cv2.resize(gray, (20, 20), fx=1, fy=1, interpolcation=cv2.INTER_AREA)\n",
    "    \n",
    "    ret, thr = cv2.threshold(ret, 127, 255, cv2.THRESH_BINARY_INV)\n",
    "    \n",
    "    cv2.imshow('ret', thr)\n",
    "    \n",
    "    return thr.reshape(-1, 400).astype(np.float32)\n",
    "\n",
    "def learningDigit():\n",
    "    img = cv2.imread('images\\digits.png')\n",
    "    gray = cv2.cvtColor(img, cv2.COLOR_BGR2GRAY)\n",
    "    \n",
    "    cells = [np.hsplit(row, 100) for row in np.vsplit(gray, 50)]\n",
    "    x = np.array(cells)\n",
    "    \n",
    "    train = x[:, :].reshape(-1, 400).astype(np.float32)\n",
    "    \n",
    "    k= np.arange(10)\n",
    "    train_labels = np.repeat(k, 500)[:, np.newaxis]\n",
    "    \n",
    "    np.savez('images\\digits_for_ocr.npz', train = train, train_labels = train_labels)\n",
    "\n",
    "learningDigit()\n",
    "    \n",
    "def loadLearningDigit(ocrdata):\n",
    "    with np.load(ocrdata) as data:\n",
    "        traindata = data['train']\n",
    "        traindata_labels = data['train_labels']\n",
    "    \n",
    "    print (traindata, traindata_labels)\n",
    "    \n",
    "    return traindata, traindata_labels\n",
    "\n",
    "loadLearningDigit('images\\digits_for_ocr.npz')\n",
    "\n",
    "def OCR_for_Digit(test, traindata, traindata_labels):\n",
    "    knn = cv2.KNearest()\n",
    "    knn.train(traindata, traindata_lebels)\n",
    "    ret, result, neighbours, dist = knn.find_nearest(test, k=5)\n",
    "    \n",
    "    return result\n",
    "\n",
    "\n",
    "# if __name__ == 'main':\n",
    "#     ocrdata = 'images/digits_for_ocr.npz'\n",
    "#     traindata, traindata_labels = loadLearningDigit(ocrdata)\n",
    "#     digits = ['images/' + str(x) + '.png' for x in range(10)]\n",
    "    \n",
    "#     print traindata.shape\n",
    "#     print traindata_labels.shape\n",
    "    \n",
    "#     savenpz = False\n",
    "    \n",
    "#     for digit in digits:\n",
    "#         test = resize20(digit)\n",
    "#         result = OCR_for_Digit(test, traindata, traindata_labels)\n",
    "        \n",
    "#         print result\n",
    "        \n",
    "#         k = cv2.waitKey(0)\n",
    "#         if k > 47 and k < 58:\n",
    "#             savenpz = True\n",
    "#             traindata = np.append(traindata, test, axis=0)\n",
    "#             new_label = np.array(int(chr(k))).reshape(-1, 1)\n",
    "#             traindata_labels = np.append(traindata_labels, new_label, axis=0)\n",
    "            \n",
    "#     cv2.destroyAllWindows()\n",
    "#     if savesnpz:\n",
    "#         np.savez('images/digits_for_ocr.npz', train = traindata, train_labels = train_labels)\n",
    "\n",
    "\n",
    "# ocrdata = 'images/digits_for_ocr.npz'\n",
    "# traindata, traindata_labels = loadLearningDigit(ocrdata)\n",
    "# digits = ['images/' + str(x) + '.png' for x in range(10)]\n",
    "    \n",
    "# print traindata.shape\n",
    "# print traindata_labels.shape\n",
    "    \n",
    "# savenpz = False\n",
    "    \n",
    "# for digit in digits:\n",
    "#     test = resize20(digit)\n",
    "#     result = OCR_for_Digit(test, traindata, traindata_labels)\n",
    "        \n",
    "#     print result\n",
    "        \n",
    "#     k = cv2.waitKey(0)\n",
    "#     if k > 47 and k < 58:\n",
    "#         savenpz = True\n",
    "#         traindata = np.append(traindata, test, axis=0)\n",
    "#         new_label = np.array(int(chr(k))).reshape(-1, 1)\n",
    "#         traindata_labels = np.append(traindata_labels, new_label, axis=0)\n",
    "            \n",
    "# cv2.destroyAllWindows()\n",
    "# if savesnpz:\n",
    "#     np.savez('images/digits_for_ocr.npz', train = traindata, train_labels = train_labels)"
   ]
  },
  {
   "cell_type": "code",
   "execution_count": null,
   "metadata": {
    "collapsed": true
   },
   "outputs": [],
   "source": []
  }
 ],
 "metadata": {
  "kernelspec": {
   "display_name": "Python 2",
   "language": "python",
   "name": "python2"
  },
  "language_info": {
   "codemirror_mode": {
    "name": "ipython",
    "version": 2
   },
   "file_extension": ".py",
   "mimetype": "text/x-python",
   "name": "python",
   "nbconvert_exporter": "python",
   "pygments_lexer": "ipython2",
   "version": "2.7.11"
  }
 },
 "nbformat": 4,
 "nbformat_minor": 0
}
